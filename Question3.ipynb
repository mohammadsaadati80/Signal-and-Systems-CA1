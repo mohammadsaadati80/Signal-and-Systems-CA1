{
 "cells": [
  {
   "cell_type": "markdown",
   "id": "776d9036",
   "metadata": {},
   "source": [
    "# SS Computer Assignment 1 \n",
    "Mohammad Saadati - \n",
    "_810198410_"
   ]
  },
  {
   "cell_type": "markdown",
   "id": "ed685410",
   "metadata": {},
   "source": [
    "## Question 3"
   ]
  },
  {
   "cell_type": "markdown",
   "id": "09cf489f",
   "metadata": {},
   "source": [
    "### Part A"
   ]
  },
  {
   "cell_type": "code",
   "execution_count": 82,
   "id": "abc370ad",
   "metadata": {},
   "outputs": [],
   "source": [
    "import numpy as np\n",
    "from matplotlib import pyplot as plt"
   ]
  },
  {
   "cell_type": "markdown",
   "id": "6c33d35d",
   "metadata": {},
   "source": [
    "We consider three periods:\n",
    "* n < 0 : In this case, y[n] = 0\n",
    "* 0 <= n < 4 : \n",
    "\\begin{equation*}\n",
    "Y[n] =  \\left( \\sum_{k=0}^n X[k]*H[n-k] \\right) \n",
    "\\end{equation*}\n",
    "* n >= 4 : \n",
    "\\begin{equation*}\n",
    "Y[n] =  \\left( \\sum_{k=0}^4 X[k]*H[n-k] \\right) \n",
    "\\end{equation*}"
   ]
  },
  {
   "cell_type": "markdown",
   "id": "57b931cc",
   "metadata": {},
   "source": [
    "### Part B"
   ]
  },
  {
   "cell_type": "code",
   "execution_count": 83,
   "id": "9c719cc0",
   "metadata": {},
   "outputs": [
    {
     "name": "stdout",
     "output_type": "stream",
     "text": [
      "[1.    1.5   1.75  1.875 0.    0.    0.    0.    0.    0.    0.    0.\n",
      " 0.    0.    0.    0.    0.    0.    0.    0.    0.    0.    0.    0.\n",
      " 0.    0.    0.    0.    0.    0.    0.    0.    0.    0.    0.    0.\n",
      " 0.    0.    0.    0.    0.    0.    0.    0.    0.    0.    0.    0.\n",
      " 0.    0.    0.    0.    0.    0.    0.    0.    0.    0.    0.    0.\n",
      " 0.    0.    0.    0.    0.    0.    0.    0.    0.    0.    0.    0.\n",
      " 0.    0.    0.    0.    0.    0.    0.    0.    0.    0.    0.    0.\n",
      " 0.    0.    0.    0.    0.    0.    0.    0.    0.    0.    0.    0.\n",
      " 0.    0.    0.    0.   ]\n"
     ]
    }
   ],
   "source": [
    "x = np.arange(0,100)\n",
    "y = np.zeros(100)\n",
    "for n in range(100):\n",
    "    if n >= 0 and n < 4 :\n",
    "        y_n = 0\n",
    "        for k in range(n + 1):\n",
    "            y_n += np.power(0.5 , n - k)\n",
    "        y[n] = y_n\n",
    "print(y)"
   ]
  },
  {
   "cell_type": "code",
   "execution_count": 84,
   "id": "13427b9c",
   "metadata": {},
   "outputs": [
    {
     "data": {
      "image/png": "[encoded data removed]",
      "text/plain": [
       "<Figure size 432x288 with 1 Axes>"
      ]
     },
     "metadata": {
      "needs_background": "light"
     },
     "output_type": "display_data"
    }
   ],
   "source": [
    "plt.stem(x, y, use_line_collection = True)\n",
    "plt.show()"
   ]
  },
  {
   "cell_type": "code",
   "execution_count": 85,
   "id": "caadc2af",
   "metadata": {},
   "outputs": [
    {
     "name": "stdout",
     "output_type": "stream",
     "text": [
      "[0.00000000e+00 0.00000000e+00 0.00000000e+00 0.00000000e+00\n",
      " 1.93750000e+00 9.68750000e-01 4.84375000e-01 2.42187500e-01\n",
      " 1.21093750e-01 6.05468750e-02 3.02734375e-02 1.51367188e-02\n",
      " 7.56835938e-03 3.78417969e-03 1.89208984e-03 9.46044922e-04\n",
      " 4.73022461e-04 2.36511230e-04 1.18255615e-04 5.91278076e-05\n",
      " 2.95639038e-05 1.47819519e-05 7.39097595e-06 3.69548798e-06\n",
      " 1.84774399e-06 9.23871994e-07 4.61935997e-07 2.30967999e-07\n",
      " 1.15483999e-07 5.77419996e-08 2.88709998e-08 1.44354999e-08\n",
      " 7.21774995e-09 3.60887498e-09 1.80443749e-09 9.02218744e-10\n",
      " 4.51109372e-10 2.25554686e-10 1.12777343e-10 5.63886715e-11\n",
      " 2.81943358e-11 1.40971679e-11 7.04858394e-12 3.52429197e-12\n",
      " 1.76214598e-12 8.81072992e-13 4.40536496e-13 2.20268248e-13\n",
      " 1.10134124e-13 5.50670620e-14 2.75335310e-14 1.37667655e-14\n",
      " 6.88338275e-15 3.44169138e-15 1.72084569e-15 8.60422844e-16\n",
      " 4.30211422e-16 2.15105711e-16 1.07552856e-16 5.37764278e-17\n",
      " 2.68882139e-17 1.34441069e-17 6.72205347e-18 3.36102673e-18\n",
      " 1.68051337e-18 8.40256684e-19 4.20128342e-19 2.10064171e-19\n",
      " 1.05032085e-19 5.25160427e-20 2.62580214e-20 1.31290107e-20\n",
      " 6.56450534e-21 3.28225267e-21 1.64112634e-21 8.20563168e-22\n",
      " 4.10281584e-22 2.05140792e-22 1.02570396e-22 5.12851980e-23\n",
      " 2.56425990e-23 1.28212995e-23 6.41064975e-24 3.20532487e-24\n",
      " 1.60266244e-24 8.01331218e-25 4.00665609e-25 2.00332805e-25\n",
      " 1.00166402e-25 5.00832012e-26 2.50416006e-26 1.25208003e-26\n",
      " 6.26040014e-27 3.13020007e-27 1.56510004e-27 7.82550018e-28\n",
      " 3.91275009e-28 1.95637504e-28 9.78187522e-29 4.89093761e-29]\n"
     ]
    }
   ],
   "source": [
    "x = np.arange(0,100)\n",
    "y = np.zeros(100)\n",
    "for n in range(100):\n",
    "    if n >= 4:\n",
    "        y_n = 0\n",
    "        for k in range(5):\n",
    "            y_n += np.power(0.5 , n - k)\n",
    "        y[n] = y_n\n",
    "print(y)"
   ]
  },
  {
   "cell_type": "code",
   "execution_count": 86,
   "id": "5bd2d627",
   "metadata": {},
   "outputs": [
    {
     "data": {
      "image/png": "[encoded data removed]",
      "text/plain": [
       "<Figure size 432x288 with 1 Axes>"
      ]
     },
     "metadata": {
      "needs_background": "light"
     },
     "output_type": "display_data"
    }
   ],
   "source": [
    "plt.stem(x, y, use_line_collection = True)\n",
    "plt.show()"
   ]
  },
  {
   "cell_type": "code",
   "execution_count": 87,
   "id": "88713000",
   "metadata": {},
   "outputs": [
    {
     "name": "stdout",
     "output_type": "stream",
     "text": [
      "[1.00000000e+00 1.50000000e+00 1.75000000e+00 1.87500000e+00\n",
      " 1.93750000e+00 9.68750000e-01 4.84375000e-01 2.42187500e-01\n",
      " 1.21093750e-01 6.05468750e-02 3.02734375e-02 1.51367188e-02\n",
      " 7.56835938e-03 3.78417969e-03 1.89208984e-03 9.46044922e-04\n",
      " 4.73022461e-04 2.36511230e-04 1.18255615e-04 5.91278076e-05\n",
      " 2.95639038e-05 1.47819519e-05 7.39097595e-06 3.69548798e-06\n",
      " 1.84774399e-06 9.23871994e-07 4.61935997e-07 2.30967999e-07\n",
      " 1.15483999e-07 5.77419996e-08 2.88709998e-08 1.44354999e-08\n",
      " 7.21774995e-09 3.60887498e-09 1.80443749e-09 9.02218744e-10\n",
      " 4.51109372e-10 2.25554686e-10 1.12777343e-10 5.63886715e-11\n",
      " 2.81943358e-11 1.40971679e-11 7.04858394e-12 3.52429197e-12\n",
      " 1.76214598e-12 8.81072992e-13 4.40536496e-13 2.20268248e-13\n",
      " 1.10134124e-13 5.50670620e-14 2.75335310e-14 1.37667655e-14\n",
      " 6.88338275e-15 3.44169138e-15 1.72084569e-15 8.60422844e-16\n",
      " 4.30211422e-16 2.15105711e-16 1.07552856e-16 5.37764278e-17\n",
      " 2.68882139e-17 1.34441069e-17 6.72205347e-18 3.36102673e-18\n",
      " 1.68051337e-18 8.40256684e-19 4.20128342e-19 2.10064171e-19\n",
      " 1.05032085e-19 5.25160427e-20 2.62580214e-20 1.31290107e-20\n",
      " 6.56450534e-21 3.28225267e-21 1.64112634e-21 8.20563168e-22\n",
      " 4.10281584e-22 2.05140792e-22 1.02570396e-22 5.12851980e-23\n",
      " 2.56425990e-23 1.28212995e-23 6.41064975e-24 3.20532487e-24\n",
      " 1.60266244e-24 8.01331218e-25 4.00665609e-25 2.00332805e-25\n",
      " 1.00166402e-25 5.00832012e-26 2.50416006e-26 1.25208003e-26\n",
      " 6.26040014e-27 3.13020007e-27 1.56510004e-27 7.82550018e-28\n",
      " 3.91275009e-28 1.95637504e-28 9.78187522e-29 4.89093761e-29]\n"
     ]
    }
   ],
   "source": [
    "x = np.arange(0,100)\n",
    "y = np.zeros(100)\n",
    "for n in range(100):\n",
    "    if n < 0:   \n",
    "        y[n] = 0\n",
    "    if n >= 0 and n < 4 :\n",
    "        y_n = 0\n",
    "        for k in range(n + 1):\n",
    "            y_n += np.power(0.5 , n - k)\n",
    "        y[n] = y_n\n",
    "    if n >= 4:\n",
    "        y_n = 0\n",
    "        for k in range(5):\n",
    "            y_n += np.power(0.5 , n - k)\n",
    "        y[n] = y_n\n",
    "print(y)"
   ]
  },
  {
   "cell_type": "code",
   "execution_count": 88,
   "id": "e9ad0f0e",
   "metadata": {},
   "outputs": [
    {
     "data": {
      "image/png": "[encoded data removed]",
      "text/plain": [
       "<Figure size 432x288 with 1 Axes>"
      ]
     },
     "metadata": {
      "needs_background": "light"
     },
     "output_type": "display_data"
    }
   ],
   "source": [
    "plt.stem(x, y, use_line_collection = True)\n",
    "plt.show()"
   ]
  }
 ],
 "metadata": {
  "kernelspec": {
   "display_name": "Python 3",
   "language": "python",
   "name": "python3"
  },
  "language_info": {
   "codemirror_mode": {
    "name": "ipython",
    "version": 3
   },
   "file_extension": ".py",
   "mimetype": "text/x-python",
   "name": "python",
   "nbconvert_exporter": "python",
   "pygments_lexer": "ipython3",
   "version": "3.8.8"
  }
 },
 "nbformat": 4,
 "nbformat_minor": 5
}
