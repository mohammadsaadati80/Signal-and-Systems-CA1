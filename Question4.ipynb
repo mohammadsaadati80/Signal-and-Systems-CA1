{
 "cells": [
  {
   "cell_type": "markdown",
   "id": "776d9036",
   "metadata": {},
   "source": [
    "# SS Computer Assignment 1 \n",
    "Mohammad Saadati - \n",
    "_810198410_"
   ]
  },
  {
   "cell_type": "markdown",
   "id": "ed685410",
   "metadata": {},
   "source": [
    "## Question 4"
   ]
  },
  {
   "cell_type": "markdown",
   "id": "8cc6313f",
   "metadata": {},
   "source": [
    "## Discrete time"
   ]
  },
  {
   "cell_type": "markdown",
   "id": "1268ac47",
   "metadata": {},
   "source": [
    "### Convolution"
   ]
  },
  {
   "cell_type": "markdown",
   "id": "fafb40f4",
   "metadata": {},
   "source": [
    "#### Part A"
   ]
  },
  {
   "cell_type": "code",
   "execution_count": 373,
   "id": "7f38ce57",
   "metadata": {},
   "outputs": [
    {
     "data": {
      "text/plain": [
       "array([0.00000000e+00, 0.00000000e+00, 0.00000000e+00, 0.00000000e+00,\n",
       "       0.00000000e+00, 0.00000000e+00, 0.00000000e+00, 0.00000000e+00,\n",
       "       0.00000000e+00, 0.00000000e+00, 0.00000000e+00, 0.00000000e+00,\n",
       "       0.00000000e+00, 0.00000000e+00, 0.00000000e+00, 0.00000000e+00,\n",
       "       0.00000000e+00, 0.00000000e+00, 0.00000000e+00, 0.00000000e+00,\n",
       "       1.00000000e+00, 1.50000000e+00, 1.75000000e+00, 1.87500000e+00,\n",
       "       1.93750000e+00, 9.68750000e-01, 4.84375000e-01, 2.42187500e-01,\n",
       "       1.21093750e-01, 6.05468750e-02, 3.02734375e-02, 1.46484375e-02,\n",
       "       6.83593750e-03, 2.92968750e-03, 9.76562500e-04, 0.00000000e+00,\n",
       "       0.00000000e+00, 0.00000000e+00, 0.00000000e+00, 0.00000000e+00,\n",
       "       0.00000000e+00])"
      ]
     },
     "execution_count": 373,
     "metadata": {},
     "output_type": "execute_result"
    }
   ],
   "source": [
    "import numpy as np\n",
    "from matplotlib import pyplot as plt\n",
    "from scipy import signal\n",
    "\n",
    "def convolution(x ,h):\n",
    "    result = np.zeros(len(h) + len(x) - 1)\n",
    "    for i in range(len(h) + len(x) - 1):\n",
    "        for j in range(len(h)):\n",
    "            if((len(x) > (i - j)) and (i >= j)):\n",
    "                result[i] += x[i-j] * h[j]\n",
    "    return result\n",
    "\n",
    "D = 10\n",
    "n = np.arange(-D,D+1,1).astype('double')\n",
    "h = np.piecewise(n, [n <0 , n >=0], [0 , lambda n: (0.5)**n])\n",
    "x = np.piecewise(n, [np.logical_not(np.logical_and(n <= 4, n >= 0)) , np.logical_and(n <=4 , n >= 0)],[0, 1])\n",
    "y = convolution(x ,h)\n",
    "y"
   ]
  },
  {
   "cell_type": "markdown",
   "id": "13af34d0",
   "metadata": {},
   "source": [
    "#### Part B"
   ]
  },
  {
   "cell_type": "code",
   "execution_count": 374,
   "id": "9774f505",
   "metadata": {},
   "outputs": [
    {
     "data": {
      "text/plain": [
       "array([0.        , 0.        , 0.        , 0.        , 0.        ,\n",
       "       0.        , 0.        , 0.        , 0.        , 0.        ,\n",
       "       1.        , 1.5       , 1.75      , 1.875     , 1.9375    ,\n",
       "       0.96875   , 0.484375  , 0.2421875 , 0.12109375, 0.06054688,\n",
       "       0.03027344])"
      ]
     },
     "execution_count": 374,
     "metadata": {},
     "output_type": "execute_result"
    }
   ],
   "source": [
    "y2 = signal.convolve(x, h, mode=\"same\")\n",
    "y2"
   ]
  },
  {
   "cell_type": "markdown",
   "id": "06a18228",
   "metadata": {},
   "source": [
    "#### Part C"
   ]
  },
  {
   "cell_type": "markdown",
   "id": "33e8e593",
   "metadata": {},
   "source": [
    "mode : str {‘full’, ‘valid’, ‘same’}, optional\n",
    "\n",
    "A string indicating the size of the output:\n",
    "\n",
    "full\n",
    "* The output is the full discrete linear convolution of the inputs. (Default)\n",
    "\n",
    "valid\n",
    "* The output consists only of those elements that do not rely on the zero-padding. In ‘valid’ mode, either in1 or in2 must be at least as large as the other in every dimension.\n",
    "\n",
    "same\n",
    "* The output is the same size as in1, centered with respect to the ‘full’ output."
   ]
  },
  {
   "cell_type": "markdown",
   "id": "3420284b",
   "metadata": {},
   "source": [
    "### Deconvolution"
   ]
  },
  {
   "cell_type": "markdown",
   "id": "967e4391",
   "metadata": {},
   "source": [
    "#### Part A"
   ]
  },
  {
   "cell_type": "code",
   "execution_count": 375,
   "id": "7815086d",
   "metadata": {},
   "outputs": [
    {
     "data": {
      "text/plain": [
       "array([1.        , 0.5       , 0.25      , 0.125     , 0.0625    ,\n",
       "       0.03125   , 0.015625  , 0.0078125 , 0.00390625, 0.00195313])"
      ]
     },
     "execution_count": 375,
     "metadata": {},
     "output_type": "execute_result"
    }
   ],
   "source": [
    "def getConvolutionMatrix(n, h):\n",
    "    _matrix = np.zeros((n, n + len(h) - 1))\n",
    "    for i in range(n):\n",
    "        _matrix[i ,i:i+len(h)] = h\n",
    "    return _matrix\n",
    "def deconvolve(y, h):\n",
    "    return np.dot(y, np.linalg.pinv(getConvolutionMatrix(len(y) - len(h) + 1, h)))\n",
    "x = np.array([1]*10)\n",
    "y = signal.convolve([1]*10, [0.5**i for i in np.arange(0,10)])\n",
    "result = deconvolve(y, x)\n",
    "result"
   ]
  },
  {
   "cell_type": "code",
   "execution_count": 376,
   "id": "ed38fea4",
   "metadata": {},
   "outputs": [
    {
     "data": {
      "text/plain": [
       "<function matplotlib.pyplot.show(close=None, block=None)>"
      ]
     },
     "execution_count": 376,
     "metadata": {},
     "output_type": "execute_result"
    },
    {
     "data": {
      "image/png": "[encoded data removed]",
      "text/plain": [
       "<Figure size 432x288 with 1 Axes>"
      ]
     },
     "metadata": {
      "needs_background": "light"
     },
     "output_type": "display_data"
    }
   ],
   "source": [
    "plt.stem(result)\n",
    "plt.title(\"deconvolve of H[n]\")\n",
    "plt.show"
   ]
  },
  {
   "cell_type": "markdown",
   "id": "34c6736a",
   "metadata": {},
   "source": [
    "#### Part B"
   ]
  },
  {
   "cell_type": "code",
   "execution_count": 377,
   "id": "0b468c9a",
   "metadata": {},
   "outputs": [
    {
     "data": {
      "text/plain": [
       "<function matplotlib.pyplot.show(close=None, block=None)>"
      ]
     },
     "execution_count": 377,
     "metadata": {},
     "output_type": "execute_result"
    },
    {
     "data": {
      "image/png": "[encoded data removed]",
      "text/plain": [
       "<Figure size 432x288 with 1 Axes>"
      ]
     },
     "metadata": {
      "needs_background": "light"
     },
     "output_type": "display_data"
    }
   ],
   "source": [
    "plt.stem([i for i in range(0,10)], [0 if i<0 else 0.5**i for i in range(10)])\n",
    "plt.title(\"H[n] = 0.5^n\")\n",
    "plt.show"
   ]
  },
  {
   "cell_type": "markdown",
   "id": "ab83604d",
   "metadata": {},
   "source": [
    "Yes; The deconvolved array is equal to H[n] from convolution part."
   ]
  },
  {
   "cell_type": "markdown",
   "id": "212513d3",
   "metadata": {},
   "source": [
    "#### Part C"
   ]
  },
  {
   "cell_type": "code",
   "execution_count": 378,
   "id": "4a973ef8",
   "metadata": {},
   "outputs": [
    {
     "name": "stdout",
     "output_type": "stream",
     "text": [
      "[1 1 1 1 1 1 1 1 1 1]\n"
     ]
    }
   ],
   "source": [
    "print(x)"
   ]
  },
  {
   "cell_type": "code",
   "execution_count": 379,
   "id": "fe14454f",
   "metadata": {},
   "outputs": [
    {
     "name": "stdout",
     "output_type": "stream",
     "text": [
      "[1.00000000e+00 1.50000000e+00 1.75000000e+00 1.87500000e+00\n",
      " 1.93750000e+00 1.96875000e+00 1.98437500e+00 1.99218750e+00\n",
      " 1.99609375e+00 1.99804688e+00 9.98046875e-01 4.98046875e-01\n",
      " 2.48046875e-01 1.23046875e-01 6.05468750e-02 2.92968750e-02\n",
      " 1.36718750e-02 5.85937500e-03 1.95312500e-03]\n"
     ]
    }
   ],
   "source": [
    "print(y)"
   ]
  },
  {
   "cell_type": "code",
   "execution_count": 380,
   "id": "6d7e664c",
   "metadata": {},
   "outputs": [
    {
     "data": {
      "text/plain": [
       "([], array([1, 1, 1, 1, 1, 1, 1, 1, 1, 1]))"
      ]
     },
     "execution_count": 380,
     "metadata": {},
     "output_type": "execute_result"
    }
   ],
   "source": [
    "signal.deconvolve(x,y)"
   ]
  },
  {
   "cell_type": "markdown",
   "id": "cf038777",
   "metadata": {},
   "source": [
    "## Continuous time"
   ]
  },
  {
   "cell_type": "markdown",
   "id": "acea038a",
   "metadata": {},
   "source": [
    "### Problem 1"
   ]
  },
  {
   "cell_type": "markdown",
   "id": "101f8dbd",
   "metadata": {},
   "source": [
    "#### Part A"
   ]
  },
  {
   "cell_type": "code",
   "execution_count": 381,
   "id": "85860372",
   "metadata": {},
   "outputs": [
    {
     "data": {
      "image/png": "[encoded data removed]",
      "text/plain": [
       "<Figure size 432x288 with 1 Axes>"
      ]
     },
     "metadata": {
      "needs_background": "light"
     },
     "output_type": "display_data"
    }
   ],
   "source": [
    "a = 0.5\n",
    "D = 5\n",
    "t = np.linspace(-D,D,10*D)\n",
    "u = np.piecewise(t,[t >=0 , t < 0], [1,0])\n",
    "x = np.exp(-a * t)*u\n",
    "y1 = np.convolve(x , u, mode=\"same\")\n",
    "plt.stem(t, y1)\n",
    "plt.title('Convolve with Numpy')\n",
    "plt.xlabel('n')\n",
    "plt.ylabel('Y[n]')\n",
    "plt.show()"
   ]
  },
  {
   "cell_type": "code",
   "execution_count": 382,
   "id": "575b6604",
   "metadata": {},
   "outputs": [
    {
     "data": {
      "image/png": "[encoded data removed]",
      "text/plain": [
       "<Figure size 432x288 with 1 Axes>"
      ]
     },
     "metadata": {
      "needs_background": "light"
     },
     "output_type": "display_data"
    }
   ],
   "source": [
    "y2 = signal.convolve(x , u, mode=\"same\")\n",
    "plt.stem(t, y2, use_line_collection = True)\n",
    "plt.title('Convolve with Signal')\n",
    "plt.xlabel('n')\n",
    "plt.ylabel('Y[n]')\n",
    "plt.show()"
   ]
  },
  {
   "cell_type": "markdown",
   "id": "7bdb9e45",
   "metadata": {},
   "source": [
    "#### Part B"
   ]
  },
  {
   "cell_type": "markdown",
   "id": "bc0d0f45",
   "metadata": {},
   "source": [
    "t < 0 : y(t) = 0\n",
    "\n",
    "t >= 0 : y(t) = (1-e^(a*t))/a"
   ]
  },
  {
   "cell_type": "markdown",
   "id": "b793788a",
   "metadata": {},
   "source": [
    "#### Part C"
   ]
  },
  {
   "cell_type": "markdown",
   "id": "06eaf924",
   "metadata": {},
   "source": [
    "Yes"
   ]
  },
  {
   "cell_type": "markdown",
   "id": "fd533ef6",
   "metadata": {},
   "source": [
    "### Problem 2"
   ]
  },
  {
   "cell_type": "markdown",
   "id": "7e5fba99",
   "metadata": {},
   "source": [
    "#### Part A"
   ]
  },
  {
   "cell_type": "code",
   "execution_count": 383,
   "id": "d65cdf3f",
   "metadata": {},
   "outputs": [],
   "source": [
    "def x(t):\n",
    "    if t>=2 or t <= -2:\n",
    "        return 0\n",
    "    elif t>= -2 and t <= -1:\n",
    "        return t + 2\n",
    "    elif t>= 1 and t <= 2:\n",
    "        return -t + 2\n",
    "    else:\n",
    "        return 1\n",
    "    \n",
    "def h(t):\n",
    "    if t>= -0.5 and t <=0:\n",
    "        return 2*t + 1\n",
    "    elif t>=0:\n",
    "        return 1\n",
    "    else:\n",
    "        return 0\n",
    "    "
   ]
  },
  {
   "cell_type": "markdown",
   "id": "af62d8e9",
   "metadata": {},
   "source": [
    "#### Part B"
   ]
  },
  {
   "cell_type": "code",
   "execution_count": null,
   "id": "7415c05c",
   "metadata": {},
   "outputs": [],
   "source": []
  },
  {
   "cell_type": "markdown",
   "id": "0e8facb9",
   "metadata": {},
   "source": [
    "### Problem 3"
   ]
  },
  {
   "cell_type": "markdown",
   "id": "e6c0c7b4",
   "metadata": {},
   "source": [
    "#### Part A"
   ]
  },
  {
   "cell_type": "code",
   "execution_count": 384,
   "id": "54de2b24",
   "metadata": {},
   "outputs": [
    {
     "data": {
      "image/png": "[encoded data removed]",
      "text/plain": [
       "<Figure size 432x288 with 1 Axes>"
      ]
     },
     "metadata": {
      "needs_background": "light"
     },
     "output_type": "display_data"
    }
   ],
   "source": [
    "def impulse_train(n, T):\n",
    "    return signal.unit_impulse(n,[i for i in range(0,n,T)])\n",
    "T = 5\n",
    "n = 50\n",
    "impulse = impulse_train(n, T)\n",
    "plt.stem(impulse , use_line_collection = True)\n",
    "plt.show()"
   ]
  },
  {
   "cell_type": "markdown",
   "id": "7921d91d",
   "metadata": {},
   "source": [
    "#### Part B"
   ]
  },
  {
   "cell_type": "code",
   "execution_count": 385,
   "id": "627da52e",
   "metadata": {},
   "outputs": [],
   "source": [
    "def x(t):\n",
    "    if t<=0 and t >= -2:\n",
    "        return (0.5)*t + 1\n",
    "    elif t>=0 and t <= 2:\n",
    "        return (-0.5)*t + 1\n",
    "    else:\n",
    "        return 0"
   ]
  },
  {
   "cell_type": "markdown",
   "id": "54e999bc",
   "metadata": {},
   "source": [
    "#### Part C"
   ]
  },
  {
   "cell_type": "code",
   "execution_count": 386,
   "id": "6d28bb64",
   "metadata": {},
   "outputs": [
    {
     "data": {
      "image/png": "[encoded data removed]",
      "text/plain": [
       "<Figure size 432x288 with 1 Axes>"
      ]
     },
     "metadata": {
      "needs_background": "light"
     },
     "output_type": "display_data"
    }
   ],
   "source": [
    "plt.plot(np.arange(-50,49), signal.convolve([x(t) for t in np.arange(-25,25)], impulse))  \n",
    "plt.title('T = 5')\n",
    "plt.xlabel('t')\n",
    "plt.ylabel('Y(t)')\n",
    "plt.show()"
   ]
  },
  {
   "cell_type": "code",
   "execution_count": 387,
   "id": "30ea14bb",
   "metadata": {},
   "outputs": [
    {
     "data": {
      "image/png": "[encoded data removed]",
      "text/plain": [
       "<Figure size 432x288 with 1 Axes>"
      ]
     },
     "metadata": {
      "needs_background": "light"
     },
     "output_type": "display_data"
    }
   ],
   "source": [
    "T = 20\n",
    "n = 100\n",
    "impulse = impulse_train(n, T)\n",
    "plt.plot(np.arange(-100,99), signal.convolve([x(t) for t in np.arange(-50,50)], impulse))  \n",
    "plt.title('T = 20')\n",
    "plt.xlabel('t')\n",
    "plt.ylabel('Y(t)')\n",
    "plt.show()"
   ]
  }
 ],
 "metadata": {
  "kernelspec": {
   "display_name": "Python 3",
   "language": "python",
   "name": "python3"
  },
  "language_info": {
   "codemirror_mode": {
    "name": "ipython",
    "version": 3
   },
   "file_extension": ".py",
   "mimetype": "text/x-python",
   "name": "python",
   "nbconvert_exporter": "python",
   "pygments_lexer": "ipython3",
   "version": "3.8.8"
  }
 },
 "nbformat": 4,
 "nbformat_minor": 5
}
